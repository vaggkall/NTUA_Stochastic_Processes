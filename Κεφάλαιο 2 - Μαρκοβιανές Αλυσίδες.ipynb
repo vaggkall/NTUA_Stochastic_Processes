{
 "cells": [
  {
   "cell_type": "code",
   "execution_count": null,
   "metadata": {
    "collapsed": true
   },
   "outputs": [],
   "source": [
    "import random\n",
    "random.seed(2016)  # for reproducibility"
   ]
  },
  {
   "cell_type": "markdown",
   "metadata": {},
   "source": [
    "## Άσκηση 33\n",
    "\n",
    "Αυτή η άσκηση εκτιμά με τη μέθοδο Monte Carlo την πιθανότητα της ́**Ασκησης 18** για $p = \\frac{1}{6}$.\n",
    "\n",
    "Για να προσομοιώσουμε το πρόβλημα θα χρειαστούμε:\n",
    "\n",
    "1. Να φορτώστουμε τον προσομοιωτή `markov_chain` από το αρχείο `simple_markov_chain_lib.py`\n",
    "2. Να δημιουργήσουμε τον πίνακα πιθανοτήτων μετάβασης και την αρχική πιθανότητα (βλέπε [εργαστήριο 1](Κεφάλαιο 1 - Εισαγωγή στις Στοχαστικές Ανελίξεις.ipynb) για λεπτομέριες)\n",
    "3. Να δημιοουργήσουμε μία νέα αλυσίδα\n",
    "\n",
    "Αυτά τα βήματα υλοποιούνται στο παρακάτω κελί κώδικα:"
   ]
  },
  {
   "cell_type": "code",
   "execution_count": null,
   "metadata": {
    "collapsed": false
   },
   "outputs": [],
   "source": [
    "from simple_markov_chain_lib import markov_chain\n",
    "\n",
    "p = 1/6\n",
    "\n",
    "# A dictionary for the initial distibution. \n",
    "# Every state-key corresponds to an initial probability.\n",
    "init_probs = {0: 1.0} \n",
    " \n",
    "# A dictionary for the transition probability  matrix. \n",
    "# Every state-key corresponds to a list with tuples of (Next_State,Probability) \n",
    "markov_table = {\n",
    "    0: {1: 1.},\n",
    "    1: {1: 2/3, 2: 1/3},\n",
    "    2: {0: p, 1: 1-p}\n",
    "}\n",
    " \n",
    "# Ok... we are ready know\n",
    "# Let's construct a Markov Chain. So let's call the constructor\n",
    "mc = markov_chain(markov_table, init_probs)"
   ]
  },
  {
   "cell_type": "markdown",
   "metadata": {},
   "source": [
    "Τώρα που έχουμε την αλυσίδα **`mc`** μπορούμε να την προσομοιώσουμε.\n",
    "\n",
    "Συγκεκριμένα, θα εκτιμήσουμε την πιθανότητα $\\mathbb{P}\\left[X_{40} = 0 \\mid X_0 = 0 \\right]$ \n",
    "όπου η τιμή `40` είναι απλά μία \"μεγάλη τιμή\" κοντά στην ασυμπτωτική συμπεριφορά. \n",
    "Για να το κάνουμε αυτό, θα τρέξουμε την αλυσίδα πολλές φορές (παράμετρος `N`) ξεκινώντας πάντα από την κατάσταση `0` και μετρώντας πόσες η αλυσίδα βρέθηκε στην κατάσταση `0` μετά από `40` βήματα (παράμετρος `steps`). "
   ]
  },
  {
   "cell_type": "code",
   "execution_count": null,
   "metadata": {
    "collapsed": false
   },
   "outputs": [],
   "source": [
    "## Experiment parameters\n",
    "N = 1000     # number of repeats\n",
    "steps = 40   # the target time\n",
    "counter = 0  # to count the number of times P[X_40  = 1 | X_1 = 1]\n",
    "\n",
    "## Simulation\n",
    "for i in range(N):\n",
    "    mc.start()  # new experiment\n",
    "    for j in range(steps):  mc.move()\n",
    "    if mc.running_state == 0:  counter += 1\n",
    "\n",
    "phat = counter / N\n",
    "\n",
    "print(\n",
    "    \"\"\"\n",
    "    We executed {0} times the first {1} steps of the markov chain\n",
    "    and we captured the running state in state 0: {2} times.\n",
    "    So we estimate the Pr[X_{1} = 0 | X_0 = 0] to be {3}\n",
    "    \"\"\".format(N, steps, counter, phat)\n",
    ")"
   ]
  },
  {
   "cell_type": "markdown",
   "metadata": {},
   "source": [
    "Ξανατρέχτε το προηγούμενο κελί μερικές φορές και απαντήστε τις παρακάτω ερωτήσεις:\n",
    "\n",
    "1. Είναι το αποτέλεσμα πάντα ίδιο ή παρόμοιο;\n",
    "2. Οι τιμές που βγαίνουν είναι κοντά στη λύση που υπολογίσατε αναλυτικά;\n",
    "3. Ποιά είναι η δειγματική διασπορά;\n",
    "\n",
    "*[Για να απαντήσετε δημιουργείστε νέα κελία κειμένο και/ή κώδικα παρακάτω]*"
   ]
  },
  {
   "cell_type": "markdown",
   "metadata": {},
   "source": [
    "## Άσκηση 34\n",
    "\n",
    "Δοκιμάστε να τρέξετε τον ίδιο κώδικα για `N = 100,000` (100 χιλιάδες) φορές."
   ]
  },
  {
   "cell_type": "code",
   "execution_count": null,
   "metadata": {
    "collapsed": false
   },
   "outputs": [],
   "source": [
    "# Your code goes here!"
   ]
  },
  {
   "cell_type": "markdown",
   "metadata": {},
   "source": [
    "Ποιά είναι τώρα η δειγματική διασπορά;"
   ]
  },
  {
   "cell_type": "markdown",
   "metadata": {},
   "source": [
    "## Άσκηση 35\n",
    "\n",
    "\n",
    "Αλλάχτε την αρχική κατανομή ώστε η αλυσίδα να ξεκινάει από την κατάσταση `2`. (τρίτη γραμμή του πίνακα)"
   ]
  },
  {
   "cell_type": "code",
   "execution_count": null,
   "metadata": {
    "collapsed": false
   },
   "outputs": [],
   "source": [
    "# your code goes here!"
   ]
  },
  {
   "cell_type": "markdown",
   "metadata": {},
   "source": [
    "Είναι το αποτέλεσμα που βρίκατε διαφορετικό από αυτό της προηγούμενεις άσκησης;"
   ]
  },
  {
   "cell_type": "markdown",
   "metadata": {},
   "source": [
    "## Ασκηση 36\n",
    "\n",
    "Τροποιήστε τον κώδικα ώστε να υπολογίζει αριθμητικά την πιθανότητα της **Ασκησης 20**.\n"
   ]
  },
  {
   "cell_type": "code",
   "execution_count": null,
   "metadata": {
    "collapsed": true
   },
   "outputs": [],
   "source": [
    "# you code goes here!"
   ]
  },
  {
   "cell_type": "markdown",
   "metadata": {},
   "source": [
    "Είναι το αποτέλεσμα που βρήκατε αριθμητικά σε συμφωνία με αυτό που βρήκατε θεωρητικά;"
   ]
  }
 ],
 "metadata": {
  "kernelspec": {
   "display_name": "Python 3",
   "language": "python",
   "name": "python3"
  },
  "language_info": {
   "codemirror_mode": {
    "name": "ipython",
    "version": 3
   },
   "file_extension": ".py",
   "mimetype": "text/x-python",
   "name": "python",
   "nbconvert_exporter": "python",
   "pygments_lexer": "ipython3",
   "version": "3.6.0"
  }
 },
 "nbformat": 4,
 "nbformat_minor": 2
}
