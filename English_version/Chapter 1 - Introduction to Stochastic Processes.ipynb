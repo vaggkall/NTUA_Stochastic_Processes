{
 "cells": [
  {
   "cell_type": "code",
   "execution_count": null,
   "metadata": {
    "collapsed": false
   },
   "outputs": [],
   "source": [
    "import numpy as np\n",
    "\n",
    "np.random.seed(2016)  # for reproducibility\n",
    "np.set_printoptions(precision = 3)  # to print less digits for floats"
   ]
  },
  {
   "cell_type": "markdown",
   "metadata": {},
   "source": [
    "## Introduction\n",
    "\n",
    "**Welcome to this virtual lab!**\n",
    "\n",
    "Read the instructions and execute the cells in order to see the results.\n",
    "\n",
    "The numbering of the exercises is the same as the numbering in the [book](https://repository.kallipos.gr/handle/11419/6003)\n",
    "\n",
    "*Don't forget to run the first cell! (Before \"Introduction\")*\n",
    "\n",
    "## Exercise 16\n",
    "\n",
    "The goal of this exercise is to introduce you to `simple_markov_chain_lib.py`.\n",
    "It should be located in the main folder of this repository. You can open it inside Jupyter and inspect it.\n",
    "It's not necessary to understand it in all detail, since this would require some experience in Python (or Object-Oriented Programming). We will just use it as a \"library\" that simulates a markov chain.\n",
    "\n",
    "However, if you have some familiarity with Python, it's worth while taking a look at the \"internal methods\" \n",
    "`_partial_sums` and `_next_state` (the `_` designates an \"internal\" function not to be used by the end-user).\n",
    "These, implement the random sampler described at **exercise 10**."
   ]
  },
  {
   "cell_type": "markdown",
   "metadata": {},
   "source": [
    "### simple_markov_chain_lib\n",
    "\n",
    "`simple_markov_chain_lib.py` contains only the `markov_chain` \"object\". \n",
    "\n"
   ]
  },
  {
   "cell_type": "code",
   "execution_count": null,
   "metadata": {
    "collapsed": false
   },
   "outputs": [],
   "source": [
    "from simple_markov_chain_lib import markov_chain"
   ]
  },
  {
   "cell_type": "markdown",
   "metadata": {},
   "source": [
    "In this section we will see how you can interact with this object. In particular we will focus on 3 things:\n",
    "\n",
    "1. How to initiate a markov chain\n",
    "2. How to simulate a random walk across the state-space\n",
    "3. How to investigate the attributes of this markov chain\n",
    "\n",
    "#### Initiate a new markov chain\n",
    "\n",
    "To initiate a new makrov chain you have to provide 2 arguments:\n",
    "\n",
    "1. `markov_table`: the matrix of the transition probabilities and\n",
    "2. `init_dist` (optional): the initial distribution\n",
    "\n",
    "Because trasition matrices are sparse most of the time, `markov_table` and `init_dist` are not actual matrices and vectors but rather `dict`ionaries. \n",
    "\n",
    "Each dictionary describes a probability mass function by assigning a probability to the corresponding key.\n",
    "Thus the format for `init_dist` is \n",
    "\n",
    "* `key` = state\n",
    "* `value` = probability of starting from the corresponding state\n",
    "\n",
    "The `markov_table` format is a little trickier. \n",
    "Each entry of the table corresponds to a row of the transition table.\n",
    "Thus each key is a state as before but now values are distributions themselves, ie dictionaries with states as keys and probabilities as values.\n",
    "\n",
    "The following piece of code models the example of **exercise 17** from the lecture notes with transition probability table:\n",
    "\n",
    "$$\n",
    "P = \n",
    "\\begin{pmatrix}\n",
    "0   & 1/2 & 1/2 &  0  & 0 \\\\\n",
    "1/3 &  0  &  0  & 2/3 & 0 \\\\\n",
    "0   &  0  &  1  &  0  & 0 \\\\\n",
    "1/2 &  0  &  0  & 1/2 & 0 \\\\\n",
    "0   &  0  &  0  &  0  & 1 \n",
    "\\end{pmatrix}\n",
    "$$\n",
    "\n",
    "and starting state 0 (Python uses a zero-based numbering)."
   ]
  },
  {
   "cell_type": "code",
   "execution_count": null,
   "metadata": {
    "collapsed": false
   },
   "outputs": [],
   "source": [
    "# Initial Distribution\n",
    "p = {0: 1.}  # we a.s. start from state 0 with probability 1\n",
    "\n",
    "# Transition Table\n",
    "P = {\n",
    "    0: {1: .5, 2: .5},  # from state 0 we move to state 1 with prob 0.5 and to state 2 with 0.5\n",
    "    1: {0: 1/3, 3: 2/3},\n",
    "    2: {2: 1.},\n",
    "    3: {0: .5, 3: .5},\n",
    "    4: {4: 1.}\n",
    "}\n",
    "\n",
    "ex17 = markov_chain(P, p)"
   ]
  },
  {
   "cell_type": "markdown",
   "metadata": {},
   "source": [
    "#### Simulate random walk\n",
    "\n",
    "The `markov_chain` is characterize by two main attributes (other than `markov_table` and initial distribution):\n",
    "\n",
    "1. `step`: the current iteration of the chain (the $n$ of $\\{X_n\\}_{n \\in \\mathbb{N}_0}$)\n",
    "2. `running_state`: the current state the chain resides ($X_n$)\n",
    "\n",
    "In order to simulate the process, we first have to `start` and then `move` across the states.\n",
    "\n",
    "* `start`: sets time at 0 and selects a starting state accordingn to the initial distribution\n",
    "* `move`: selects the next state according to the transistion matrix and increments the `step`.\n",
    "\n",
    "`move` also updates the \"running\" state distribution by multiplying the current distribution with the `markov_table`."
   ]
  },
  {
   "cell_type": "code",
   "execution_count": null,
   "metadata": {
    "collapsed": false
   },
   "outputs": [],
   "source": [
    "# First step\n",
    "ex17.start()\n",
    "n, Xn = ex17.steps, ex17.running_state  # n = steps, Xn = running state\n",
    "print(\"At time {} the chain is at state {}\".format(n, Xn))\n",
    "\n",
    "ex17.start()\n",
    "n, Xn = ex17.steps, ex17.running_state\n",
    "print(\"At time {} the chain is at state {}\".format(n, Xn))\n",
    "\n",
    "# Subsequent Steps\n",
    "ex17.move()\n",
    "n, Xn = ex17.steps, ex17.running_state\n",
    "print(\"At time {} the chain is at state {}\".format(n, Xn))\n",
    "\n",
    "ex17.move()\n",
    "n, Xn = ex17.steps, ex17.running_state\n",
    "print(\"At time {} the chain is at state {}\".format(n, Xn))\n"
   ]
  },
  {
   "cell_type": "markdown",
   "metadata": {},
   "source": [
    "notice that when we `start` for the second time we start at a different state but the time is again at 0 while as we `move` time moves but the state can still be the same.\n",
    "\n",
    "To simulate the first 10 steps of the process you can run the following code"
   ]
  },
  {
   "cell_type": "code",
   "execution_count": null,
   "metadata": {
    "collapsed": false
   },
   "outputs": [],
   "source": [
    "ex17.start()\n",
    "for i in range(10):\n",
    "    print(\"At time {} the chain is in state {}\".format(ex17.steps, ex17.running_state))\n",
    "    ex17.move()"
   ]
  },
  {
   "cell_type": "markdown",
   "metadata": {},
   "source": [
    "Try to rerun the previous cell some times and see the different results."
   ]
  },
  {
   "cell_type": "markdown",
   "metadata": {},
   "source": [
    "#### Other attributes of `markov_chain`\n",
    "\n",
    "* `probs_matrix` the matrix of transistion probabilities\n",
    "* `eigenvalues` the eigenvalues of the `probs_matrix`\n",
    "* `probs_state` the probability distribution at the current step.\n",
    "* `communication_classes` a dictionary of *closed* and *open* communication classes\n",
    "* `len(markov_chain)`: the cardinality of the state-space\n",
    "* `init_dist`: the initial distribution (it can be changeds as well)"
   ]
  },
  {
   "cell_type": "code",
   "execution_count": null,
   "metadata": {
    "collapsed": false
   },
   "outputs": [],
   "source": [
    "print(\"ex17.probs_matrix:\")\n",
    "print(ex17.probs_matrix)\n",
    "\n",
    "print(\"\\nex17.eigenvalues:\")\n",
    "print(np.round(ex17.eigenvalues, 2))\n",
    "\n",
    "print(\"\\nNumber of states: {}\".format(len(ex17)))\n",
    "\n",
    "print(\"\\nInitial Distriubiton: {}\".format(str(ex17.init_dist)))\n",
    "\n",
    "print(\"\\nState Distribution after {} steps\".format(ex17.steps))\n",
    "print(ex17.probs_state)"
   ]
  },
  {
   "cell_type": "markdown",
   "metadata": {},
   "source": [
    "## Practice - Exercise 17\n",
    "\n",
    "(**The description is from exercise 11**)\n",
    "\n",
    "In a bookself of a library there are 3 books:\n",
    "\n",
    "* **A**lgebra\n",
    "* **B**asic Topology\n",
    "* **C**alculus\n",
    "\n",
    "which we will model with `A, B, C`.\n",
    "\n",
    "Every morning you pick one of the books with probabilities `p, q, r` respectively \n",
    "and after you are done reading you return it to the leftmost position.\n",
    "The book order is a markov chain in the space $\\mathbb{X}$ of all permutation of $\\{A, B, C\\}$\n",
    "\n",
    "Simulate the first 20 steps of the chain using the library presented above."
   ]
  },
  {
   "cell_type": "code",
   "execution_count": null,
   "metadata": {
    "collapsed": true
   },
   "outputs": [],
   "source": [
    "# Your code goes here!"
   ]
  }
 ],
 "metadata": {
  "kernelspec": {
   "display_name": "Python 3",
   "language": "python",
   "name": "python3"
  },
  "language_info": {
   "codemirror_mode": {
    "name": "ipython",
    "version": 3
   },
   "file_extension": ".py",
   "mimetype": "text/x-python",
   "name": "python",
   "nbconvert_exporter": "python",
   "pygments_lexer": "ipython3",
   "version": "3.6.0"
  }
 },
 "nbformat": 4,
 "nbformat_minor": 2
}
