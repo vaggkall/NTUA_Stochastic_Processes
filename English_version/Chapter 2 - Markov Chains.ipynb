{
 "cells": [
  {
   "cell_type": "code",
   "execution_count": null,
   "metadata": {
    "collapsed": true
   },
   "outputs": [],
   "source": [
    "import random\n",
    "random.seed(2016)  # for reproducibility"
   ]
  },
  {
   "cell_type": "markdown",
   "metadata": {},
   "source": [
    "## Exercise 47\n",
    "\n",
    "This exercise simulates **exercise 18** of the lecture notes via the *Monte Carlo* method for `p = 1/6`. \n",
    "First we will set up the problem which requires:\n",
    "\n",
    "1. Load our custom Markov Chain from `simple_markov_chain_lib.py`\n",
    "2. Set-up the initial probabilities and the transistion matrix\n",
    "3. Initiate the model\n",
    "\n",
    "These steps are implemented in the code below"
   ]
  },
  {
   "cell_type": "code",
   "execution_count": null,
   "metadata": {
    "collapsed": false
   },
   "outputs": [],
   "source": [
    "from simple_markov_chain_lib import markov_chain\n",
    "\n",
    "p = 1/6\n",
    "\n",
    "# A dictionary for the initial distibution. \n",
    "# Every state-key corresponds to an initial probability.\n",
    "init_probs = {0: 1.0} \n",
    " \n",
    "# A dictionary for the transition probability  matrix. \n",
    "# Every state-key corresponds to a list with tuples of (Next_State,Probability) \n",
    "markov_table = {\n",
    "    0: {1: 1.},\n",
    "    1: {1: 2/3, 2: 1/3},\n",
    "    2: {0: p, 1: 1-p}\n",
    "}\n",
    " \n",
    "# Ok... we are ready know\n",
    "# Let's construct a Markov Chain. So let's call the constructor\n",
    "mc = markov_chain(markov_table, init_probs)"
   ]
  },
  {
   "cell_type": "markdown",
   "metadata": {},
   "source": [
    "Now that we have `markov_chain` we can simulate it's behavior.\n",
    "\n",
    "In particular, we will estimate $\\mathbb{P}\\left[X_{40} = 0 \\mid X_0 = 0 \\right]$ where `40` is just a \"big number\" close the asymptotic behaviour. \n",
    "To do that, we will run the chain many times (`N`) always starting from state `0` and count how many times we found it at state `0` after `40 steps`. "
   ]
  },
  {
   "cell_type": "code",
   "execution_count": null,
   "metadata": {
    "collapsed": false
   },
   "outputs": [],
   "source": [
    "## Experiment parameters\n",
    "N = 1000     # number of repeats\n",
    "steps = 40   # the target time\n",
    "counter = 0  # to count the number of times P[X_40  = 1 | X_1 = 1]\n",
    "\n",
    "## Simulation\n",
    "for i in range(N):\n",
    "    mc.start()  # new experiment\n",
    "    for j in range(steps):  mc.move()\n",
    "    if mc.running_state == 0:  counter += 1\n",
    "\n",
    "phat = counter / N\n",
    "\n",
    "print(\n",
    "    \"\"\"\n",
    "    We executed {0} times the first {1} steps of the markov chain\n",
    "    and we captured the running state in state 0: {2} times.\n",
    "    So we estimate the Pr[X_{1} = 0 | X_0 = 0] to be {3}\n",
    "    \"\"\".format(N, steps, counter, phat)\n",
    ")"
   ]
  },
  {
   "cell_type": "markdown",
   "metadata": {},
   "source": [
    "Try to rerun the previous cell some times and answer the following questions:\n",
    "\n",
    "1. Is the solution always the same or similar?\n",
    "2. Is it close to the analytically derived value?\n",
    "3. How could you imporve this prediction?"
   ]
  },
  {
   "cell_type": "markdown",
   "metadata": {},
   "source": [
    "## Exercise 30\n",
    "\n",
    "Try the same code for `N = 100,000` and compare the results"
   ]
  },
  {
   "cell_type": "code",
   "execution_count": null,
   "metadata": {
    "collapsed": true
   },
   "outputs": [],
   "source": [
    "# your code goes here!"
   ]
  },
  {
   "cell_type": "markdown",
   "metadata": {},
   "source": [
    "## Exercise 31\n",
    "\n",
    "Change the code so that the chain starts from state `1` and rerun the experiment.\n",
    "\n",
    "Compare the reults"
   ]
  },
  {
   "cell_type": "code",
   "execution_count": null,
   "metadata": {
    "collapsed": true
   },
   "outputs": [],
   "source": [
    "# your code goes here!"
   ]
  },
  {
   "cell_type": "markdown",
   "metadata": {},
   "source": [
    "## Exercise 32\n",
    "\n",
    "Run the same analysis for **exercise 20** and compare computational and experimental results.\n"
   ]
  },
  {
   "cell_type": "code",
   "execution_count": null,
   "metadata": {
    "collapsed": true
   },
   "outputs": [],
   "source": [
    "# your code goes here!"
   ]
  }
 ],
 "metadata": {
  "kernelspec": {
   "display_name": "Python 3",
   "language": "python",
   "name": "python3"
  },
  "language_info": {
   "codemirror_mode": {
    "name": "ipython",
    "version": 3
   },
   "file_extension": ".py",
   "mimetype": "text/x-python",
   "name": "python",
   "nbconvert_exporter": "python",
   "pygments_lexer": "ipython3",
   "version": "3.6.0"
  }
 },
 "nbformat": 4,
 "nbformat_minor": 2
}
