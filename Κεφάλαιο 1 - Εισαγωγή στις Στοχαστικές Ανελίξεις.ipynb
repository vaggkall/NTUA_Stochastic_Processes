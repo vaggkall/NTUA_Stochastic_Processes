{
 "cells": [
  {
   "cell_type": "code",
   "execution_count": null,
   "metadata": {
    "collapsed": false
   },
   "outputs": [],
   "source": [
    "import numpy as np\n",
    "\n",
    "np.random.seed(2016)  # for reproducibility\n",
    "np.set_printoptions(precision = 3)  # to print less digits for floats"
   ]
  },
  {
   "cell_type": "markdown",
   "metadata": {},
   "source": [
    "## Εισαγωγή\n",
    "\n",
    "**Καλώς ήρθατε στο εικονικό εργαστήριο!**\n",
    "\n",
    "Διαβάστε τις οδηγίες στα κελιά κειμένου και εκτελέστε τα κελιά κώδικα για να δείτε τα αποτελέσματα.\n",
    "\n",
    "Η αρίθμηση των ασκήσεων είναι η ίδια με αυτή του [βιβλίου](https://repository.kallipos.gr/handle/11419/6003)\n",
    "\n",
    "*Μην ξεχάσετε να εκτελέσετε και το 1ο κελί πριν την Εισαγωγή!*\n",
    "\n",
    "## Άσκηση 16\n",
    "\n",
    "Σκοπός αυτής της άσκησης είναι να εξοικιωθείτε με την βιβλιοθήκη `simple_markov_chain_lib.py`.\n",
    "Το αρχείο θα πρέπει να βρίσκεται στον ίδιο φάκελο με αυτό το notebook. Μπορείτε να το ανοίξετε και να το επεξεργαστείτε μέσω του browser. Δεν χρειάζεται να κατανοήσετε κάθε λεπτομέριες καθώς αυτό απαιτεί αρκετή εμπειρία με Python (και αντικειμενοστραφή προγραμματισμό). Θα το χρησιμοποιήσουμε απλά σαν βιβλιοθήκη που προσωμοιώνει μαρκοβιανές αλυσίδες.\n",
    "\n",
    "Παρόλα αυτά, αν έχετε κάποια οικειότητα με την Python αξίζει να ρίξετε μια ματία και ειδικά στις \"εσωτερικές μεθόδους\" `_partial_sums` και `_next_state` (η κάτω παύλα `_` στην αρχή δηλώνει ότι είναι εσωτερικές μέθοδοι και δεν πρέπει να καλούνται από το χρήστη). Οι 2 αυτές μέθοδοι υλοποιούν την γεννήτρια τυχαίων αριθμών που περιγράφεται στην **άσκηση 10**."
   ]
  },
  {
   "cell_type": "markdown",
   "metadata": {},
   "source": [
    "### simple_markov_chain_lib\n",
    "\n",
    "Το `simple_markov_chain_lib.py` περιέχει μόνο ένα \"αντικείμενο\" την κλάση `markov_chain`. \n",
    "Η επόμενη γραμμή το εισάγει στο περιβάλλον της Python\n"
   ]
  },
  {
   "cell_type": "code",
   "execution_count": null,
   "metadata": {
    "collapsed": false
   },
   "outputs": [],
   "source": [
    "from simple_markov_chain_lib import markov_chain  # import markov chain simulator"
   ]
  },
  {
   "cell_type": "markdown",
   "metadata": {},
   "source": [
    "Σε αυτό το εργαστήριο θα δείτε πως μπορείτε να χρησιμοποιήσετε αυτή τη κλάση. Συγκεκριμένα θα εστιάσουμε σε 3 πράγματα:\n",
    "\n",
    "1. Πως να δημιουργήσετε μία καινούργια αλυσίδα\n",
    "2. Πώς να προσομοιώσετε έναν τυχαίο περίπατο στο χώρο καταστάσεων\n",
    "3. Πώς να ελέγξετε τις ιδιότητες αυτής της αλυσίδας\n",
    "\n",
    "#### Δημιουργία καινούργιας μακροβιανής αλυσίδας\n",
    "\n",
    "Για να φτιάξετε μια καινούργια αλυσίδα χρειάζονται 2 ορίσματα:\n",
    "\n",
    "1. `markov_table`: Ο πίνακας πιθανοτήτων μετάβασεις και\n",
    "2. `init_dist` (προαιρετικά): η αρχική κατανομή\n",
    "\n",
    "Επιδή οι πίνακες μετάβασεις είναι \"αραιοί\" τις περισσότερες φορές τα ορίσματα \n",
    "`markov_table` και `init_dist` δεν είναι πραγματικοί πίνακες αλλά \"λεξικά\" (`dict`). \n",
    "Τα λεξικά αυτά περιγράφουν μια συνάρτηση μάζας πιθανότητας (*σ.μ.π*) ως εξής:\n",
    "\n",
    "* `key` = κατάσταση (δεν χρειάζεται να είναι αριθμός)\n",
    "* `value` = πιθανότητα (πρέπει να είναι αριθμός στο διάστημα $[0, 1]$)\n",
    "\n",
    "όσες καταστάσεις **δεν** περιέχονται στο λεξικό θεωρείται όχι έχουν μηδενική πιθανότητα.\n",
    "Το άθροισμα όλων των πιθανοτήτων που περιέχονται στο λεξικό\n",
    "πρέπει να είναι ίσο με 1 αλλιώς ο κώδικας θα εγείρει σφάλμα.\n",
    "\n",
    "Για την **αρχική κατανομή** (`init_dist`),  καθε κλειδί (`key`) αντιστοιχεί σε μία κατάσταση και \n",
    "η τιμή (`value`) που έχει αυτό το κλειδί είναι η πιθανότητα η αλυσίδα να εκκινήσει από αυτή τη κατάσταση.\n",
    "\n",
    "Ο **πίνακας πιθανοτήτων μετάβασης** είναι ένα σύνολο από *σ.μ.π*. \n",
    "Επομένως, το όρισμα `markov_table` ορίζεται σαν ένα *λεξικό από λεξικά*. \n",
    "Κάθε κλειδί (`key`) αντιστοιχεί σε μία γραμμή του πίνακα και \n",
    "η τιμή (`value`) που αντιστοιχεί σε αυτό το κλειδί είναι ένα λεξικό (*σ.μ.π*) \n",
    "όπου τα κλειδιά είναι οι πιθανές καταστάσεις μετάβασης \n",
    "και οι τιμές οι πιθανότητες μετάβασης.\n",
    "\n",
    "\n",
    "Ο κώδικας στο επόμενο κελί είναι ένα παράδειγμα που υλοποιεί την αλυσίδα με πίνακα πιθανοτήτων μετάβασης\n",
    "\n",
    "$$\n",
    "P = \n",
    "\\begin{pmatrix}\n",
    "0   & 1/2 & 1/2 &  0  & 0 \\\\\n",
    "1/3 &  0  &  0  & 2/3 & 0 \\\\\n",
    "0   &  0  &  1  &  0  & 0 \\\\\n",
    "1/2 &  0  &  0  & 1/2 & 0 \\\\\n",
    "0   &  0  &  0  &  0  & 1 \n",
    "\\end{pmatrix}\n",
    "$$\n",
    "\n",
    "και αρχική κατάσταση την γραμμή 0 (η αρίθμηση στην Python ξεκινάει από το 0)."
   ]
  },
  {
   "cell_type": "code",
   "execution_count": null,
   "metadata": {
    "collapsed": false
   },
   "outputs": [],
   "source": [
    "# Initial Distribution\n",
    "p = {0: 1.}  # we a.s. start from state 0 with probability 1\n",
    "\n",
    "# Transition Table\n",
    "P = {\n",
    "    0: {1: .5, 2: .5},  # from state 0 we move to state 1 with prob 0.5 and to state 2 with 0.5\n",
    "    1: {0: 1/3, 3: 2/3},\n",
    "    2: {2: 1.},\n",
    "    3: {0: .5, 3: .5},\n",
    "    4: {4: 1.}\n",
    "}\n",
    "\n",
    "ex17 = markov_chain(P, p)"
   ]
  },
  {
   "cell_type": "markdown",
   "metadata": {},
   "source": [
    "#### Simulate random walk\n",
    "\n",
    "Ένα αντικείμενο `markov_chain` χαρακτηρίζεται από 2 κύριες ιδιότητες \n",
    "(εκτός από το `markov_table` και την αρχική κατανομή):\n",
    "\n",
    "1. **`step`**: το παρών βήμα της αλυσίδας (το $n$ στο $\\{X_n\\}_{n \\in \\mathbb{N}_0}$)\n",
    "2. **`running_state`**: την παρούσα κατάσταση ($X_n$)\n",
    "\n",
    "Για να προσομοιώσουμε την αλυσίδα πρέπει αρχικά να την *εκκινήσουμε* (`start`) \n",
    "και στη συνέχεια να την *προχωρήσουμε* (`move`) στο χώρο τον καταστάσεων.\n",
    "\n",
    "Το `markov_chain` έχει 2 μεθόδους για αυτό το σκοπό:\n",
    "\n",
    "* **`start`**: θέτει το βήμα στο  `0` και επιλέγει μια τυχαία κατάσταση εκκίνησης σύμφωνα με την αρχική κατανομή\n",
    "* **`move`**: επιλέγει την επόμενη κατάσταση και επαυξάνει το χρόνο (`step`) κατά ένα.\n"
   ]
  },
  {
   "cell_type": "code",
   "execution_count": null,
   "metadata": {
    "collapsed": false
   },
   "outputs": [],
   "source": [
    "# First step\n",
    "ex17.start()\n",
    "n, Xn = ex17.steps, ex17.running_state  # n = steps, Xn = running state\n",
    "print(\"At time {} the chain is at state {}\".format(n, Xn))\n",
    "\n",
    "ex17.start()\n",
    "n, Xn = ex17.steps, ex17.running_state\n",
    "print(\"At time {} the chain is at state {}\".format(n, Xn))\n",
    "\n",
    "# Subsequent Steps\n",
    "ex17.move()\n",
    "n, Xn = ex17.steps, ex17.running_state\n",
    "print(\"At time {} the chain is at state {}\".format(n, Xn))\n",
    "\n",
    "ex17.move()\n",
    "n, Xn = ex17.steps, ex17.running_state\n",
    "print(\"At time {} the chain is at state {}\".format(n, Xn))\n"
   ]
  },
  {
   "cell_type": "markdown",
   "metadata": {},
   "source": [
    "παρατηρείστε ότι όταν κάνουμε `start` για δεύτερη φορά ο χρόνος μένει στο 0 (η κατάσταση μπορεί να αλλάξει) ενώ όταν κάνουμε `move` ο χρόνος αυξάνεται (η κατάσταση μπορεί να μείνει και ίδια).\n",
    "\n",
    "Ο παρακάτω κώδικας προσομοιώνει τα 10 πρώτα βήματα της αλυσίδας:"
   ]
  },
  {
   "cell_type": "code",
   "execution_count": null,
   "metadata": {
    "collapsed": false
   },
   "outputs": [],
   "source": [
    "ex17.start()\n",
    "print(\"At time {} the chain is in state {}\".format(ex17.steps, ex17.running_state))\n",
    "for i in range(10):\n",
    "    ex17.move()\n",
    "    print(\"At time {} the chain is in state {}\".format(ex17.steps, ex17.running_state))\n"
   ]
  },
  {
   "cell_type": "markdown",
   "metadata": {},
   "source": [
    "Ξανατρέχτε το προηγούμενο κελί μερικές φορές και δείτε πως τα αποτελέσματα αλλάζουν."
   ]
  },
  {
   "cell_type": "markdown",
   "metadata": {},
   "source": [
    "#### Άλλες ιδιότητες  του `markov_chain`\n",
    "\n",
    "* `probs_matrix` ο πίνακας πιθανοτήτων μετάβασης (σε μορφή πίνακα)\n",
    "* `eigenvalues` οι ιδιοτιμές του `probs_matrix`\n",
    "* `probs_state` η συνάρτηση μάζας πιθανότητας της αλυσίδας στο παρών βήμα (υπολογισμένη αναλυτικά).\n",
    "* `communication_classes` ένα λεξικό με τις *ανοιχτές* (`open`) και *κλειστές* (`closed`) κλάσεις επικοινωνίας της αλυσίδας\n",
    "* `len(markov_chain)`: το πληθάριθμος του χώρου καταστάσεων\n",
    "* `init_dist`: η αρχική κατανομή (μπορείτε να την αλλάξετε άμα θέλετε)"
   ]
  },
  {
   "cell_type": "code",
   "execution_count": null,
   "metadata": {
    "collapsed": false
   },
   "outputs": [],
   "source": [
    "print(\"ex17.probs_matrix:\")\n",
    "print(ex17.probs_matrix)\n",
    "\n",
    "print(\"\\nex17.eigenvalues:\")\n",
    "print(np.round(ex17.eigenvalues, 2))\n",
    "\n",
    "print(\"\\nNumber of states: {}\".format(len(ex17)))\n",
    "\n",
    "print(\"\\nInitial Distriubiton: {}\".format(str(ex17.init_dist)))\n",
    "\n",
    "print(\"\\nState Distribution after {} steps\".format(ex17.steps))\n",
    "print(ex17.probs_state)"
   ]
  },
  {
   "cell_type": "markdown",
   "metadata": {},
   "source": [
    "## Έξάσκηση\n",
    "\n",
    "(**Άσκηση 17 του βιβλίου. Το πρόβλημα περιγράφεται στην άσκηση 11**)\n",
    "\n",
    "\n",
    "Σε ένα ράφι της βιβλιοθήκης υπάρχουν 3 βιβλία:\n",
    "\n",
    "* **A**lgebra\n",
    "* **B**asic Topology\n",
    "* **C**alculus\n",
    "\n",
    "που θα συμβολίζουμε με `A, B, C`.\n",
    "\n",
    "Κάθε πρωί παίρνετε τυχαία ένα βιβλίο από τη θέση του\n",
    "με πιθανότητες p, q, r, αντίστοιχα.  ́Οταν τελειώνετε το διάβασμά σας για την ημέρα, το ξαναβάζετε στο\n",
    "ράφι στην αριστερότερη θέση. Η διάταξη των βιβλίων είναι μια μαρκοβιανή αλυσίδα στον χώρο $\\mathbb{X}$ των\n",
    "μεταθέσεων των συμβόλων $\\{A, B, C\\}$.\n",
    "\n",
    "Προσομοιώστε τα 20 πρώτα βήματα της αλυσίδας."
   ]
  },
  {
   "cell_type": "code",
   "execution_count": null,
   "metadata": {
    "collapsed": true
   },
   "outputs": [],
   "source": [
    "# Your code goes here!"
   ]
  }
 ],
 "metadata": {
  "kernelspec": {
   "display_name": "Python 3",
   "language": "python",
   "name": "python3"
  },
  "language_info": {
   "codemirror_mode": {
    "name": "ipython",
    "version": 3
   },
   "file_extension": ".py",
   "mimetype": "text/x-python",
   "name": "python",
   "nbconvert_exporter": "python",
   "pygments_lexer": "ipython3",
   "version": "3.6.0"
  }
 },
 "nbformat": 4,
 "nbformat_minor": 2
}
